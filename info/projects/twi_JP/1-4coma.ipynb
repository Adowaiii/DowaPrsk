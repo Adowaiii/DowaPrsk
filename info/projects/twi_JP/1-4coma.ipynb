{
  "cells": [
    {
      "cell_type": "raw",
      "metadata": {},
      "source": [
        "---\n",
        "title: セカイの4コマ\n",
        "execute:\n",
        "  echo: false\n",
        "catagories:\n",
        "  - '*連載中'\n",
        "---"
      ],
      "id": "29543823"
    },
    {
      "cell_type": "markdown",
      "metadata": {},
      "source": [
        "<div id=\"toc_container\" style=\"border:2px turquoise dashed;padding:0px 12px 0px 12px;border-radius:8px;background-color:rgba(64,224,208, 0.3) !important;\">\n",
        "<p class=\"toc_title\">Contents</p>\n",
        "<ul class=\"toc_list\">\n",
        "<li><a href=\"#Header1\">第1~10話</a></li>\n",
        "<li><a href=\"#Header11\">第11~20話</a></li>\n",
        "<li><a href=\"#Header21\">第21~30話</a></li>\n",
        "<li><a href=\"#Header31\">第31~40話</a></li>\n",
        "<li><a href=\"#Header41\">第41~50話</a></li>\n",
        "<li><a href=\"#Header51\">第51~60話</a></li>\n",
        "<li><a href=\"#Header61\">第61~70話</a></li>\n",
        "<li><a href=\"#Header71\">第71~80話</a></li>\n",
        "<li><a href=\"#Header81\">第81~90話</a></li>\n",
        "<li><a href=\"#Header91\">第91~100話</a></li>\n",
        "<li><a href=\"#Header101\">第101~110話</a></li>\n",
        "<li><a href=\"#Header111\">第111~120話</a></li>\n",
        "<li><a href=\"#Header121\">第121~130話</a></li>\n",
        "<li><a href=\"#Header131\">第131~話</a></li></ul>\n",
        "</div>\n",
        "\n",
        "<br>\n",
        "<br>\n"
      ],
      "id": "84a3ea31"
    },
    {
      "cell_type": "code",
      "metadata": {},
      "source": [
        "#!/usr/bin/env python\n",
        "# coding: utf-8\n",
        "\n",
        "\n",
        "import snscrape.modules.twitter as sntwitter\n",
        "import pandas as pd\n",
        "from IPython.display import display, HTML\n",
        "import markdown\n",
        "\n",
        "tweets_list = []   #セカイの4コマ\n",
        "\n",
        "# Using TwitterSearchScraper to scrape data and append tweets to list\n",
        "for i,tweet in enumerate(sntwitter.TwitterSearchScraper('from:@pj_sekai #セカイの4コマ').get_items()):\n",
        "    tweets_list.append(tweet.url)\n",
        "\n",
        "for i in range(len(tweets_list)):\n",
        "    display(HTML('<h6 id=\"Header'+str(i+1)+'\">第'+str(i+1)+'話</h6><blockquote class=\"twitter-tweet\" style=\"height:50px\"><a href=\"'+tweets_list[len(tweets_list)-i-1]+'\"></a></blockquote> <script async src=\"https://platform.twitter.com/widgets.js\" charset=\"utf-8\"></script>'))"
      ],
      "id": "3fcfa0e5",
      "execution_count": null,
      "outputs": []
    }
  ],
  "metadata": {
    "kernelspec": {
      "name": "python3",
      "language": "python",
      "display_name": "Python 3 (ipykernel)"
    }
  },
  "nbformat": 4,
  "nbformat_minor": 5
}